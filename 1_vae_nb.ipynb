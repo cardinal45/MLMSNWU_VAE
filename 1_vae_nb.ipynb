{
 "cells": [
  {
   "cell_type": "markdown",
   "id": "ec41d44d",
   "metadata": {},
   "source": [
    "# Variational Autoencoder for Materials Discovery\n",
    "\n",
    "## Workshop: Machine Learning Methods for Materials Science at Centre for Space Research,NWU\n",
    "https://mesfind.github.io/matgnn/\n",
    "\n",
    "### Project 1: Materials Representation Learning using Variational Autoencoders\n",
    "\n",
    "**Learning Objectives:**\n",
    "- Understand VAE principles and implementation\n",
    "- Learn materials representation learning\n",
    "- Implement property prediction from latent space\n",
    "- Explore the latent space for materials discovery\n",
    "\n",
    "\n",
    "**VAE Task:** Learn a compact latent representation of materials that captures:\n",
    "- Chemical composition patterns\n",
    "- Formation energy relationships\n",
    "- Materials similarity metrics"
   ]
  },
  {
   "cell_type": "code",
   "execution_count": 1,
   "id": "5c1ee023",
   "metadata": {},
   "outputs": [
    {
     "name": "stdout",
     "output_type": "stream",
     "text": [
      "Using device: cpu\n",
      "🧠 Variational Autoencoder for Materials Discovery\n",
      "🎯 Goal: Learn meaningful representations of materials for discovery\n"
     ]
    }
   ],
   "source": [
    "# Import necessary libraries\n",
    "import numpy as np\n",
    "import pandas as pd\n",
    "import matplotlib.pyplot as plt\n",
    "import seaborn as sns\n",
    "from pathlib import Path\n",
    "import warnings\n",
    "import random\n",
    "import os\n",
    "import json\n",
    "from sklearn.model_selection import train_test_split\n",
    "from sklearn.preprocessing import StandardScaler, MinMaxScaler\n",
    "from sklearn.metrics import mean_squared_error, r2_score, mean_absolute_error\n",
    "from sklearn.decomposition import PCA\n",
    "from sklearn.manifold import TSNE\n",
    "from sklearn.metrics.pairwise import cosine_similarity\n",
    "import warnings\n",
    "warnings.filterwarnings('ignore')\n",
    "\n",
    "# Deep learning libraries\n",
    "import torch\n",
    "import torch.nn as nn\n",
    "import torch.nn.functional as F\n",
    "import torch.optim as optim\n",
    "from torch.utils.data import DataLoader, TensorDataset\n",
    "\n",
    "# Set device\n",
    "device = torch.device('cuda' if torch.cuda.is_available() else 'cpu')\n",
    "print(f\"Using device: {device}\")\n",
    "\n",
    "# Set random seeds for reproducibility\n",
    "torch.manual_seed(42)\n",
    "np.random.seed(42)\n",
    "random.seed(42)\n",
    "\n",
    "# Plotting style\n",
    "plt.style.use('default')\n",
    "sns.set_theme(style=\"whitegrid\")\n",
    "sns.set_palette(\"husl\")\n",
    "\n",
    "print(\"🧠 Variational Autoencoder for Materials Discovery\")\n",
    "print(\"🎯 Goal: Learn meaningful representations of materials for discovery\")\n"
   ]
  },
  {
   "cell_type": "code",
   "execution_count": 3,
   "id": "4294aabb",
   "metadata": {},
   "outputs": [
    {
     "name": "stdout",
     "output_type": "stream",
     "text": [
      "📁 Created output directories: materials/, images/, models/\n"
     ]
    }
   ],
   "source": [
    "# Create output directories\n",
    "def create_output_directories():\n",
    "    \"\"\"Create organized output directories for materials, images, and models.\"\"\"\n",
    "    directories = ['materials', 'images', 'models']\n",
    "    for directory in directories:\n",
    "        Path(directory).mkdir(exist_ok=True)\n",
    "    print(\"📁 Created output directories: materials/, images/, models/\")\n",
    "    \n",
    "create_output_directories()"
   ]
  },
  {
   "cell_type": "markdown",
   "id": "7f04c9b9",
   "metadata": {},
   "source": [
    "## 1. Introduction to Variational Autoencoders for Materials\n",
    "\n",
    "Variational Autoencoders (VAEs) are powerful generative models that learn:\n",
    "\n",
    "### Key Concepts:\n",
    "- **Encoder**: Maps materials features to latent distribution parameters (μ, σ²)\n",
    "- **Latent Space**: Low-dimensional probabilistic representation of materials\n",
    "- **Decoder**: Reconstructs materials features from latent codes\n",
    "- **Reparameterization Trick**: Enables gradient flow through random sampling\n",
    "\n",
    "### VAE Loss Function:\n",
    "- **Reconstruction Loss**: How well can we reconstruct input materials?\n",
    "- **KL Divergence**: How close is the latent distribution to a prior (N(0,I))?\n",
    "- **Property Loss**: Can we predict materials properties from latent codes?\n",
    "\n",
    "### Applications for Materials Science:\n",
    "- **Materials Discovery**: Sample new materials from latent space\n",
    "- **Property Prediction**: Predict properties from compact representations\n",
    "- **Materials Similarity**: Use latent distance as materials similarity\n",
    "- **Feature Engineering**: Use latent codes as features for downstream tasks\n",
    "\"\"\""
   ]
  },
  {
   "cell_type": "markdown",
   "id": "f3738fa8",
   "metadata": {},
   "source": []
  },
  {
   "cell_type": "code",
   "execution_count": 4,
   "id": "0e5daf5c",
   "metadata": {},
   "outputs": [
    {
     "name": "stdout",
     "output_type": "stream",
     "text": [
      "📂 Loading processed formation energy dataset...\n",
      "✅ Loaded 5000 materials with processed features\n",
      "📊 Dataset shape: (5000, 42)\n",
      "🎯 Formation energy range: -4.343 to 2.443 eV/atom\n"
     ]
    }
   ],
   "source": [
    "data_dir = Path(\"./data\") # common data directory\n",
    "    \n",
    "processed_file = data_dir / \"formation_energy_processed.csv\"\n",
    "if processed_file.exists():\n",
    "    print(\"📂 Loading processed formation energy dataset...\")\n",
    "    df = pd.read_csv(processed_file)\n",
    "    print(f\"✅ Loaded {len(df)} materials with processed features\")\n",
    "    print(f\"📊 Dataset shape: {df.shape}\")\n",
    "    print(f\"🎯 Formation energy range: {df['e_form_per_atom'].min():.3f} to {df['e_form_per_atom'].max():.3f} eV/atom\")"
   ]
  },
  {
   "cell_type": "code",
   "execution_count": null,
   "id": "5088ae48",
   "metadata": {},
   "outputs": [],
   "source": []
  }
 ],
 "metadata": {
  "kernelspec": {
   "display_name": "venv",
   "language": "python",
   "name": "python3"
  },
  "language_info": {
   "codemirror_mode": {
    "name": "ipython",
    "version": 3
   },
   "file_extension": ".py",
   "mimetype": "text/x-python",
   "name": "python",
   "nbconvert_exporter": "python",
   "pygments_lexer": "ipython3",
   "version": "3.13.1"
  }
 },
 "nbformat": 4,
 "nbformat_minor": 5
}
